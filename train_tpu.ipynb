{
  "nbformat": 4,
  "nbformat_minor": 0,
  "metadata": {
    "accelerator": "TPU",
    "colab": {
      "name": "train.ipynb",
      "provenance": [],
      "collapsed_sections": [],
      "machine_shape": "hm"
    },
    "kernelspec": {
      "display_name": "Python 3",
      "name": "python3"
    }
  },
  "cells": [
    {
      "cell_type": "code",
      "metadata": {
        "colab": {
          "base_uri": "https://localhost:8080/"
        },
        "id": "gQmVxJdMPhgn",
        "outputId": "5e2b92b3-06e5-4e94-c923-099ac06b5c6f"
      },
      "source": [
        "!curl https://raw.githubusercontent.com/pytorch/xla/master/contrib/scripts/env-setup.py -o pytorch-xla-env-setup.py\n",
        "!python pytorch-xla-env-setup.py --apt-packages libomp5 libopenblas-dev"
      ],
      "execution_count": 1,
      "outputs": [
        {
          "output_type": "stream",
          "text": [
            "  % Total    % Received % Xferd  Average Speed   Time    Time     Time  Current\n",
            "                                 Dload  Upload   Total   Spent    Left  Speed\n",
            "\r  0     0    0     0    0     0      0      0 --:--:-- --:--:-- --:--:--     0\r  0     0    0     0    0     0      0      0 --:--:-- --:--:-- --:--:--     0\r100  5116  100  5116    0     0  24834      0 --:--:-- --:--:-- --:--:-- 24714\n",
            "Updating... This may take around 2 minutes.\n",
            "Updating TPU runtime to pytorch-dev20200515 ...\n",
            "Collecting cloud-tpu-client\n",
            "  Downloading https://files.pythonhosted.org/packages/56/9f/7b1958c2886db06feb5de5b2c191096f9e619914b6c31fdf93999fdbbd8b/cloud_tpu_client-0.10-py3-none-any.whl\n",
            "Collecting google-api-python-client==1.8.0\n",
            "\u001b[?25l  Downloading https://files.pythonhosted.org/packages/9a/b4/a955f393b838bc47cbb6ae4643b9d0f90333d3b4db4dc1e819f36aad18cc/google_api_python_client-1.8.0-py3-none-any.whl (57kB)\n",
            "\u001b[K     |████████████████████████████████| 61kB 3.9MB/s \n",
            "\u001b[?25hRequirement already satisfied: oauth2client in /usr/local/lib/python3.6/dist-packages (from cloud-tpu-client) (4.1.3)\n",
            "Requirement already satisfied: six<2dev,>=1.6.1 in /usr/local/lib/python3.6/dist-packages (from google-api-python-client==1.8.0->cloud-tpu-client) (1.15.0)\n",
            "Requirement already satisfied: google-auth-httplib2>=0.0.3 in /usr/local/lib/python3.6/dist-packages (from google-api-python-client==1.8.0->cloud-tpu-client) (0.0.4)\n",
            "Requirement already satisfied: httplib2<1dev,>=0.9.2 in /usr/local/lib/python3.6/dist-packages (from google-api-python-client==1.8.0->cloud-tpu-client) (0.17.4)\n",
            "Requirement already satisfied: google-api-core<2dev,>=1.13.0 in /usr/local/lib/python3.6/dist-packages (from google-api-python-client==1.8.0->cloud-tpu-client) (1.16.0)\n",
            "Requirement already satisfied: google-auth>=1.4.1 in /usr/local/lib/python3.6/dist-packages (from google-api-python-client==1.8.0->cloud-tpu-client) (1.17.2)\n",
            "Requirement already satisfied: uritemplate<4dev,>=3.0.0 in /usr/local/lib/python3.6/dist-packages (from google-api-python-client==1.8.0->cloud-tpu-client) (3.0.1)\n",
            "Requirement already satisfied: pyasn1-modules>=0.0.5 in /usr/local/lib/python3.6/dist-packages (from oauth2client->cloud-tpu-client) (0.2.8)\n",
            "Requirement already satisfied: pyasn1>=0.1.7 in /usr/local/lib/python3.6/dist-packages (from oauth2client->cloud-tpu-client) (0.4.8)\n",
            "Requirement already satisfied: rsa>=3.1.4 in /usr/local/lib/python3.6/dist-packages (from oauth2client->cloud-tpu-client) (4.6)\n",
            "Requirement already satisfied: protobuf>=3.4.0 in /usr/local/lib/python3.6/dist-packages (from google-api-core<2dev,>=1.13.0->google-api-python-client==1.8.0->cloud-tpu-client) (3.12.4)\n",
            "Requirement already satisfied: pytz in /usr/local/lib/python3.6/dist-packages (from google-api-core<2dev,>=1.13.0->google-api-python-client==1.8.0->cloud-tpu-client) (2018.9)\n",
            "Requirement already satisfied: requests<3.0.0dev,>=2.18.0 in /usr/local/lib/python3.6/dist-packages (from google-api-core<2dev,>=1.13.0->google-api-python-client==1.8.0->cloud-tpu-client) (2.23.0)\n",
            "Requirement already satisfied: setuptools>=34.0.0 in /usr/local/lib/python3.6/dist-packages (from google-api-core<2dev,>=1.13.0->google-api-python-client==1.8.0->cloud-tpu-client) (50.3.2)\n",
            "Requirement already satisfied: googleapis-common-protos<2.0dev,>=1.6.0 in /usr/local/lib/python3.6/dist-packages (from google-api-core<2dev,>=1.13.0->google-api-python-client==1.8.0->cloud-tpu-client) (1.52.0)\n",
            "Requirement already satisfied: cachetools<5.0,>=2.0.0 in /usr/local/lib/python3.6/dist-packages (from google-auth>=1.4.1->google-api-python-client==1.8.0->cloud-tpu-client) (4.1.1)\n",
            "Requirement already satisfied: certifi>=2017.4.17 in /usr/local/lib/python3.6/dist-packages (from requests<3.0.0dev,>=2.18.0->google-api-core<2dev,>=1.13.0->google-api-python-client==1.8.0->cloud-tpu-client) (2020.12.5)\n",
            "Requirement already satisfied: urllib3!=1.25.0,!=1.25.1,<1.26,>=1.21.1 in /usr/local/lib/python3.6/dist-packages (from requests<3.0.0dev,>=2.18.0->google-api-core<2dev,>=1.13.0->google-api-python-client==1.8.0->cloud-tpu-client) (1.24.3)\n",
            "Uninstalling torch-1.7.0+cu101:\n",
            "Requirement already satisfied: idna<3,>=2.5 in /usr/local/lib/python3.6/dist-packages (from requests<3.0.0dev,>=2.18.0->google-api-core<2dev,>=1.13.0->google-api-python-client==1.8.0->cloud-tpu-client) (2.10)\n",
            "Requirement already satisfied: chardet<4,>=3.0.2 in /usr/local/lib/python3.6/dist-packages (from requests<3.0.0dev,>=2.18.0->google-api-core<2dev,>=1.13.0->google-api-python-client==1.8.0->cloud-tpu-client) (3.0.4)\n",
            "Installing collected packages: google-api-python-client, cloud-tpu-client\n",
            "  Found existing installation: google-api-python-client 1.7.12\n",
            "    Uninstalling google-api-python-client-1.7.12:\n",
            "      Successfully uninstalled google-api-python-client-1.7.12\n",
            "Successfully installed cloud-tpu-client-0.10 google-api-python-client-1.8.0\n",
            "  Successfully uninstalled torch-1.7.0+cu101\n",
            "Uninstalling torchvision-0.8.1+cu101:\n",
            "  Successfully uninstalled torchvision-0.8.1+cu101\n",
            "Copying gs://tpu-pytorch/wheels/torch-nightly+20200515-cp36-cp36m-linux_x86_64.whl...\n",
            "- [1 files][ 91.0 MiB/ 91.0 MiB]                                                \n",
            "Operation completed over 1 objects/91.0 MiB.                                     \n",
            "Copying gs://tpu-pytorch/wheels/torch_xla-nightly+20200515-cp36-cp36m-linux_x86_64.whl...\n",
            "Done updating TPU runtime\n",
            "| [1 files][119.5 MiB/119.5 MiB]                                                \n",
            "Operation completed over 1 objects/119.5 MiB.                                    \n",
            "Copying gs://tpu-pytorch/wheels/torchvision-nightly+20200515-cp36-cp36m-linux_x86_64.whl...\n",
            "/ [1 files][  2.3 MiB/  2.3 MiB]                                                \n",
            "Operation completed over 1 objects/2.3 MiB.                                      \n",
            "Processing ./torch-nightly+20200515-cp36-cp36m-linux_x86_64.whl\n",
            "Requirement already satisfied: numpy in /usr/local/lib/python3.6/dist-packages (from torch==nightly+20200515) (1.18.5)\n",
            "Requirement already satisfied: future in /usr/local/lib/python3.6/dist-packages (from torch==nightly+20200515) (0.16.0)\n",
            "\u001b[31mERROR: fastai 1.0.61 requires torchvision, which is not installed.\u001b[0m\n",
            "Installing collected packages: torch\n",
            "Successfully installed torch-1.6.0a0+bf2bbd9\n",
            "Processing ./torch_xla-nightly+20200515-cp36-cp36m-linux_x86_64.whl\n",
            "Installing collected packages: torch-xla\n",
            "Successfully installed torch-xla-1.6+2b2085a\n",
            "Processing ./torchvision-nightly+20200515-cp36-cp36m-linux_x86_64.whl\n",
            "Requirement already satisfied: numpy in /usr/local/lib/python3.6/dist-packages (from torchvision==nightly+20200515) (1.18.5)\n",
            "Requirement already satisfied: pillow>=4.1.1 in /usr/local/lib/python3.6/dist-packages (from torchvision==nightly+20200515) (7.0.0)\n",
            "Requirement already satisfied: torch in /usr/local/lib/python3.6/dist-packages (from torchvision==nightly+20200515) (1.6.0a0+bf2bbd9)\n",
            "Requirement already satisfied: future in /usr/local/lib/python3.6/dist-packages (from torch->torchvision==nightly+20200515) (0.16.0)\n",
            "Installing collected packages: torchvision\n",
            "Successfully installed torchvision-0.7.0a0+a6073f0\n",
            "Reading package lists... Done\n",
            "Building dependency tree       \n",
            "Reading state information... Done\n",
            "libopenblas-dev is already the newest version (0.2.20+ds-4).\n",
            "The following NEW packages will be installed:\n",
            "  libomp5\n",
            "0 upgraded, 1 newly installed, 0 to remove and 14 not upgraded.\n",
            "Need to get 234 kB of archives.\n",
            "After this operation, 774 kB of additional disk space will be used.\n",
            "Get:1 http://archive.ubuntu.com/ubuntu bionic/universe amd64 libomp5 amd64 5.0.1-1 [234 kB]\n",
            "Fetched 234 kB in 1s (349 kB/s)\n",
            "Selecting previously unselected package libomp5:amd64.\n",
            "(Reading database ... 144865 files and directories currently installed.)\n",
            "Preparing to unpack .../libomp5_5.0.1-1_amd64.deb ...\n",
            "Unpacking libomp5:amd64 (5.0.1-1) ...\n",
            "Setting up libomp5:amd64 (5.0.1-1) ...\n",
            "Processing triggers for libc-bin (2.27-3ubuntu1.2) ...\n",
            "/sbin/ldconfig.real: /usr/local/lib/python3.6/dist-packages/ideep4py/lib/libmkldnn.so.0 is not a symbolic link\n",
            "\n"
          ],
          "name": "stdout"
        }
      ]
    },
    {
      "cell_type": "code",
      "metadata": {
        "id": "sxXHu6KTiaVM",
        "colab": {
          "base_uri": "https://localhost:8080/"
        },
        "outputId": "d8ce7e2a-dfd1-4ace-ae2f-808e22ec552d"
      },
      "source": [
        "import warnings\n",
        "import torch\n",
        "import torch_xla\n",
        "import torch_xla.debug.metrics as met\n",
        "import torch_xla.distributed.data_parallel as dp\n",
        "import torch_xla.distributed.parallel_loader as pl\n",
        "import torch_xla.utils.utils as xu\n",
        "import torch_xla.core.xla_model as xm\n",
        "import torch_xla.distributed.xla_multiprocessing as xmp\n",
        "import torch_xla.test.test_utils as test_utils\n",
        "import warnings\n",
        "warnings.filterwarnings(\"ignore\")\n",
        "\n",
        "import sys\n",
        "import os\n",
        "import cv2\n",
        "import numpy\n",
        "import math\n",
        "import matplotlib\n",
        "import skimage\n",
        "import torchvision\n",
        "import torch.nn as nn\n",
        "import torch.nn.functional as F\n",
        "from random import randrange\n",
        "import torchvision.transforms as transform\n",
        "from torch.utils.data import DataLoader\n",
        "from torch.utils.data.dataset import Dataset\n",
        "from progressbar import ProgressBar\n",
        "from matplotlib import pyplot as plt"
      ],
      "execution_count": 2,
      "outputs": [
        {
          "output_type": "stream",
          "text": [
            "[('__call__', <function LevelMapper.__call__ at 0x7f66e0d7e730>), ('__init__', <function LevelMapper.__init__ at 0x7f66e0d7e6a8>)]\n",
            "[('__call__', <function BalancedPositiveNegativeSampler.__call__ at 0x7f66d658f268>), ('__init__', <function BalancedPositiveNegativeSampler.__init__ at 0x7f66d658f1e0>)]\n",
            "[('__init__', <function BoxCoder.__init__ at 0x7f66d651c6a8>), ('decode', <function BoxCoder.decode at 0x7f66d651c840>), ('decode_single', <function BoxCoder.decode_single at 0x7f66d651c8c8>), ('encode', <function BoxCoder.encode at 0x7f66d651c730>), ('encode_single', <function BoxCoder.encode_single at 0x7f66d651c7b8>)]\n",
            "[('__call__', <function Matcher.__call__ at 0x7f66d651c598>), ('__init__', <function Matcher.__init__ at 0x7f66d651ca60>), ('set_low_quality_matches_', <function Matcher.set_low_quality_matches_ at 0x7f66d651c620>)]\n",
            "[('__init__', <function ImageList.__init__ at 0x7f66d651cae8>), ('to', <function ImageList.to at 0x7f66d651c400>)]\n",
            "[('__init__', <function Timebase.__init__ at 0x7f66cedb88c8>)]\n",
            "[('__init__', <function VideoMetaData.__init__ at 0x7f66cedb8b70>)]\n"
          ],
          "name": "stdout"
        }
      ]
    },
    {
      "cell_type": "code",
      "metadata": {
        "id": "Kw8Hr1_Npe6I",
        "colab": {
          "base_uri": "https://localhost:8080/"
        },
        "outputId": "9f765bf9-54c7-4ac9-8c62-8194c9442a37"
      },
      "source": [
        "from google.colab import drive\n",
        "drive.mount('/content/drive', force_remount=True)"
      ],
      "execution_count": 3,
      "outputs": [
        {
          "output_type": "stream",
          "text": [
            "Mounted at /content/drive\n"
          ],
          "name": "stdout"
        }
      ]
    },
    {
      "cell_type": "code",
      "metadata": {
        "id": "r_vYeONVYzro"
      },
      "source": [
        "class SRCNNDataset(Dataset):\n",
        "  def __init__(self,path):\n",
        "    super(SRCNNDataset, self).__init__()\n",
        "    self.images = []\n",
        "    folders = os.listdir(path)\n",
        "    LR = folders[0]\n",
        "    HR = folders[1]\n",
        "    LR_dir = os.listdir(path + \"/\" + LR)\n",
        "    HR_dir = os.listdir(path + \"/\" + HR)\n",
        "    for i in LR_dir:\n",
        "      for file in os.listdir(path + \"/\" + LR + \"/\" + i):\n",
        "        self.images.append((path+\"/LR/\"+i+\"/\"+file, path+\"/HR/\"+i+\"/\"+file))\n",
        "  \n",
        "  def __len__(self):\n",
        "    return (len(self.images))\n",
        "  \n",
        "  def __getitem__(self,i):\n",
        "    low_path, high_path = self.images[i][0],self.images[i][1]\n",
        "    return transform.ToTensor()(cv2.imread(low_path)),transform.ToTensor()(cv2.imread(high_path))"
      ],
      "execution_count": 4,
      "outputs": []
    },
    {
      "cell_type": "code",
      "metadata": {
        "id": "57ljlWb6PCn2"
      },
      "source": [
        "class SRCNN(nn.Module):\n",
        "    def __init__(self):\n",
        "        super(SRCNN, self).__init__()\n",
        "        self.conv1 = nn.Conv2d(3, 64, kernel_size=9, padding=4)\n",
        "        self.conv2 = nn.Conv2d(64, 32, kernel_size=1, padding=0)\n",
        "        self.conv3 = nn.Conv2d(32, 3, kernel_size=5, padding=2)\n",
        "\n",
        "    def forward(self, x):\n",
        "      x = F.relu(self.conv1(x))\n",
        "      x = F.relu(self.conv2(x))\n",
        "      x = self.conv3(x)\n",
        "      return x"
      ],
      "execution_count": 5,
      "outputs": []
    },
    {
      "cell_type": "code",
      "metadata": {
        "id": "e5YEgbIet1T1"
      },
      "source": [
        "batch_size = 64"
      ],
      "execution_count": 6,
      "outputs": []
    },
    {
      "cell_type": "code",
      "metadata": {
        "id": "OoqXRqPAmaHn"
      },
      "source": [
        "def print_training_loss(epochs, loss_log):\n",
        "  time = list(range(epochs))\n",
        "  plt.plot(time, loss_log)\n",
        "  plt.legend(['Training loss'], loc='upper right')\n",
        "  plt.ylabel(u'Loss')\n",
        "  plt.xlabel(u'Epoch')\n",
        "\n",
        "  plt.grid(True)\n",
        "  plt.show()"
      ],
      "execution_count": 7,
      "outputs": []
    },
    {
      "cell_type": "code",
      "metadata": {
        "id": "nTuSGGStnRpq"
      },
      "source": [
        "def print_avg_psnr(epochs, psnr):\n",
        "  time = list(range(epochs))\n",
        "  plt.plot(time, psnr)\n",
        "  plt.legend(['Average PSNR'], loc='lower right')\n",
        "  plt.ylabel(u'Average PSNR')\n",
        "  plt.xlabel(u'Epoch')\n",
        "\n",
        "  plt.grid(True)\n",
        "  plt.show()"
      ],
      "execution_count": 8,
      "outputs": []
    },
    {
      "cell_type": "code",
      "metadata": {
        "id": "kGnQoX-uB2SX"
      },
      "source": [
        "# def train():\n",
        "#     def train_fn(train_loader, model, optimizer, device):\n",
        "#       criterion = nn.MSELoss().to(device)\n",
        "#       epoch_loss = 0\n",
        "#       for iteration, images in enumerate(train_loader):\n",
        "#           input, target = images[0].to(device), images[1].to(device)\n",
        "#           optimizer.zero_grad()\n",
        "#           out = model(input)\n",
        "#           loss = criterion(out, target)\n",
        "#           loss.backward()\n",
        "#           if iteration % 10 == 0:\n",
        "#             xm.master_print(f'iteration {iteration}, loss={loss.item()}')\n",
        "#           optimizer.step()\n",
        "#           epoch_loss += loss.item()\n",
        "#       return epoch_loss / len(train_loader)\n",
        "\n",
        "#     def eval_fn(eval_loader, model, device):\n",
        "#       total_psnr = 0\n",
        "#       criterion = nn.MSELoss().to(device)\n",
        "#       with torch.no_grad():\n",
        "#           for images in eval_loader:\n",
        "#               input, target = images[0].to(device), images[1].to(device)\n",
        "#               out = model(input)\n",
        "#               loss = criterion(out, target).to(device)\n",
        "#               psnr = 10 * math.log10(1 / loss.item())\n",
        "#               total_psnr += psnr\n",
        "#       return total_psnr / len(eval_loader)\n",
        "\n",
        "\n",
        "#     train_dataset = SRCNNDataset(\"/content/drive/My Drive/CVProject/SR_training_datasets/trainDataset\")\n",
        "#     train_loader = torch.utils.data.DataLoader(train_dataset, batch_size=batch_size, shuffle=True, num_workers=0)\n",
        "#     eval_dataset = SRCNNDataset(\"/content/drive/My Drive/CVProject/SR_testing_datasets/testDataset\")\n",
        "#     eval_loader = torch.utils.data.DataLoader(eval_dataset, batch_size=batch_size, shuffle=False, num_workers=0)\n",
        "\n",
        "#     device = xm.xla_device()\n",
        "#     model = SRCNN().to(device)\n",
        "#     optimizer = torch.optim.Adam(model.parameters())\n",
        "\n",
        "#     pbar = ProgressBar()\n",
        "#     training_loss_log = []\n",
        "#     psnr_log = []\n",
        "\n",
        "#     for epoch in pbar(range(epochs)):\n",
        "#         parallel_train_loader = pl.ParallelLoader(train_loader, [device])\n",
        "#         parallel_eval_loader = pl.ParallelLoader(eval_loader, [device])\n",
        "#         avg_psnr = eval_fn(parallel_eval_loader.per_device_loader(device), model, device)\n",
        "#         print(avg_psnr)\n",
        "#         print(psnr_log)\n",
        "#         psnr_log.append(avg_psnr)\n",
        "#         print_avg_psnr(epoch + 1, psnr_log)\n",
        "#         # print_training_loss(epoch + 1, training_loss_log)\n",
        "\n",
        "\n",
        "#         # train_fn(parallel_train_loader.per_device_loader(device), model, optimizer, device, training_loss_log)\n",
        "#         # eval_fn(parallel_eval_loader.per_device_loader(device), model, device, psnr_log)\n",
        "#         xm.master_print(f\"Epoch {epoch} completed\")\n",
        "#         print_training_loss(epoch + 1, training_loss_log)\n",
        "#         # print_avg_psnr(epoch + 1, psnr_log)\n",
        "#         # xm.save(model.state_dict(), f\"model_{epoch}.pth\")\n",
        "#         torch.save(model.state_dict(), f\"checkpoint_{scale}_{epoch}_{model_name}.pth\")"
      ],
      "execution_count": 9,
      "outputs": []
    },
    {
      "cell_type": "code",
      "metadata": {
        "id": "jXKpF8i2CGfz"
      },
      "source": [
        "# # Start training processes\n",
        "# def run_train(rank, flags):\n",
        "#     a = train()\n",
        "\n",
        "# FLAGS={}\n",
        "# xmp.spawn(run_train, args=(FLAGS,), nprocs=8, start_method='fork')"
      ],
      "execution_count": 10,
      "outputs": []
    },
    {
      "cell_type": "code",
      "metadata": {
        "id": "QR6S5w40WNeq"
      },
      "source": [
        "def psnr_color_scale(loss):\n",
        "  return 10 * math.log10(255 / loss)\n",
        "\n",
        "def psnr_gray_scale(loss):\n",
        "  return 10 * math.log10(1 / loss)"
      ],
      "execution_count": 11,
      "outputs": []
    },
    {
      "cell_type": "code",
      "metadata": {
        "id": "TdOcEcqa-6m1"
      },
      "source": [
        "def run(train_loader, eval_loader, model, model_name, training_loss_log, psnr_log, epochs, device):\n",
        "  def train_fn(train_loader, model, optimizer, epoch, device):\n",
        "    model.train()\n",
        "    criterion = nn.MSELoss().to(device)\n",
        "    total_loss = 0\n",
        "    iterations = 0\n",
        "    for images in train_loader:\n",
        "      if iterations == 50:\n",
        "        break\n",
        "      LR, HR = images[0].to(device), images[1].to(device)\n",
        "      optimizer.zero_grad()\n",
        "      predicted_HR = model(LR)\n",
        "      loss = criterion(predicted_HR, HR).to(device)\n",
        "      loss.backward()\n",
        "      if iterations % 10 == 0:\n",
        "        print(f'training iteration {iterations}: loss: {loss.item()}')\n",
        "      optimizer.step()\n",
        "      total_loss += loss.item()\n",
        "      iterations += 1\n",
        "    average_training_loss = total_loss / iterations\n",
        "    training_loss_log.append(average_training_loss)\n",
        "    print(f\"epoch {epoch}: average loss on training set: {average_training_loss}\")\n",
        "\n",
        "  def evaluation_fn(eval_loader, model, epoch, device):\n",
        "    model.eval()\n",
        "    criterion = nn.MSELoss().to(device)\n",
        "    total_psnr = 0\n",
        "    iterations = 0\n",
        "    for images in eval_loader:\n",
        "      LR, HR = images[0].to(device), images[1].to(device)\n",
        "      predicted_HR = model(LR)\n",
        "      loss = criterion(predicted_HR, HR).to(device)\n",
        "      total_psnr += psnr_color_scale(loss.item())\n",
        "      iterations += 1\n",
        "    average_psnr = total_psnr / iterations\n",
        "    psnr_log.append(average_psnr)\n",
        "    print(f\"epoch {epoch}: average psnr on evaluation set: {average_psnr}\")\n",
        "\n",
        "  if model_name == 'SRCNN':\n",
        "    # As mentioned in the paper, we set the learning rate in the last layer to be smaller because it helps converge\n",
        "    optimizer = torch.optim.Adam([{\"params\": model.conv1.parameters(), \"lr\": 0.0001}, {\"params\": model.conv2.parameters(), \"lr\": 0.0001}, {\"params\": model.conv3.parameters(), \"lr\": 0.00001}])\n",
        "  else:\n",
        "    optimizer = torch.optim.Adam(model.parameters())\n",
        "      \n",
        "  pbar = ProgressBar()\n",
        "  for epoch in pbar(range(epochs)):\n",
        "    train_fn(train_loader, model, optimizer, epoch, device)\n",
        "    evaluation_fn(eval_loader, model, epoch, device)\n",
        "    # torch.save(model.state_dict(), f\"checkpoint_{epoch}_{model_name}.pth\")"
      ],
      "execution_count": 12,
      "outputs": []
    },
    {
      "cell_type": "code",
      "metadata": {
        "id": "-xEanLH2_A6v",
        "colab": {
          "base_uri": "https://localhost:8080/",
          "height": 1000
        },
        "outputId": "b4760abf-2a80-4fa0-a885-5de040c5185e"
      },
      "source": [
        "train_dataset = SRCNNDataset(\"/content/drive/My Drive/CVProject/SR_training_datasets/trainDataset\")\n",
        "train_loader = torch.utils.data.DataLoader(train_dataset, batch_size=batch_size, shuffle=True, num_workers=0)\n",
        "eval_dataset = SRCNNDataset(\"/content/drive/My Drive/CVProject/SR_testing_datasets/testDataset\")\n",
        "eval_loader = torch.utils.data.DataLoader(eval_dataset, batch_size=batch_size, shuffle=False, num_workers=0)\n",
        "\n",
        "epochs = 5\n",
        "SRCNN_loss_log = []\n",
        "SRCNN_psnr_log = []\n",
        "device = 'xla'\n",
        "model = SRCNN().to(device)\n",
        "run(train_loader, eval_loader, model, 'SRCNN', SRCNN_loss_log, SRCNN_psnr_log, epochs, device)\n",
        "\n",
        "print_training_loss(epochs, SRCNN_loss_log)\n",
        "print_avg_psnr(epochs, SRCNN_psnr_log)"
      ],
      "execution_count": 13,
      "outputs": [
        {
          "output_type": "stream",
          "text": [
            "\r                                                                               \r\rN/A% (0 of 5) |                          | Elapsed Time: 0:00:00 ETA:  --:--:--"
          ],
          "name": "stderr"
        },
        {
          "output_type": "stream",
          "text": [
            "training iteration 0: loss: 0.20818473398685455\n",
            "training iteration 10: loss: 0.2096562683582306\n",
            "training iteration 20: loss: 0.16017678380012512\n",
            "training iteration 30: loss: 0.14722247421741486\n",
            "training iteration 40: loss: 0.09067663550376892\n",
            "epoch 0: average loss on training set: 0.1545175051689148\n"
          ],
          "name": "stdout"
        },
        {
          "output_type": "stream",
          "text": [
            "\r                                                                               \r\r 20% (1 of 5) |#####                     | Elapsed Time: 0:45:44 ETA:   3:02:58"
          ],
          "name": "stderr"
        },
        {
          "output_type": "stream",
          "text": [
            "epoch 0: average psnr on evaluation set: 37.01388134763114\n",
            "training iteration 0: loss: 0.059188805520534515\n",
            "training iteration 10: loss: 0.04365759342908859\n",
            "training iteration 20: loss: 0.04918220639228821\n",
            "training iteration 30: loss: 0.03523575887084007\n",
            "training iteration 40: loss: 0.0364922359585762\n",
            "epoch 1: average loss on training set: 0.04133451189845801\n"
          ],
          "name": "stdout"
        },
        {
          "output_type": "stream",
          "text": [
            "\r                                                                               \r\r 40% (2 of 5) |##########                | Elapsed Time: 1:29:49 ETA:   2:12:14"
          ],
          "name": "stderr"
        },
        {
          "output_type": "stream",
          "text": [
            "epoch 1: average psnr on evaluation set: 40.061619811614015\n",
            "training iteration 0: loss: 0.03643288463354111\n",
            "training iteration 10: loss: 0.036786723881959915\n",
            "training iteration 20: loss: 0.034327078610658646\n",
            "training iteration 30: loss: 0.030706923454999924\n",
            "training iteration 40: loss: 0.02645404450595379\n",
            "epoch 2: average loss on training set: 0.03051562711596489\n"
          ],
          "name": "stdout"
        },
        {
          "output_type": "stream",
          "text": [
            "\r                                                                               \r\r 60% (3 of 5) |###############           | Elapsed Time: 2:24:11 ETA:   1:48:44"
          ],
          "name": "stderr"
        },
        {
          "output_type": "stream",
          "text": [
            "epoch 2: average psnr on evaluation set: 40.692622674867465\n",
            "training iteration 0: loss: 0.029560822993516922\n",
            "training iteration 10: loss: 0.02739638462662697\n",
            "training iteration 20: loss: 0.025053853169083595\n",
            "training iteration 30: loss: 0.025019589811563492\n",
            "training iteration 40: loss: 0.024320993572473526\n",
            "epoch 3: average loss on training set: 0.025060373432934283\n"
          ],
          "name": "stdout"
        },
        {
          "output_type": "stream",
          "text": [
            "\r                                                                               \r\r 80% (4 of 5) |####################      | Elapsed Time: 3:33:01 ETA:   1:08:49"
          ],
          "name": "stderr"
        },
        {
          "output_type": "stream",
          "text": [
            "epoch 3: average psnr on evaluation set: 41.17302776842556\n",
            "training iteration 0: loss: 0.022713175043463707\n",
            "training iteration 10: loss: 0.024691445752978325\n",
            "training iteration 20: loss: 0.021111490204930305\n",
            "training iteration 30: loss: 0.018205704167485237\n",
            "training iteration 40: loss: 0.01811010017991066\n",
            "epoch 4: average loss on training set: 0.021415259055793286\n"
          ],
          "name": "stdout"
        },
        {
          "output_type": "stream",
          "text": [
            "\r                                                                               \r\r100% (5 of 5) |##########################| Elapsed Time: 4:57:30 Time:  4:57:30\n"
          ],
          "name": "stderr"
        },
        {
          "output_type": "stream",
          "text": [
            "epoch 4: average psnr on evaluation set: 41.67665215289966\n"
          ],
          "name": "stdout"
        },
        {
          "output_type": "display_data",
          "data": {
            "image/png": "[encoded data removed]",
            "text/plain": [
              "<Figure size 432x288 with 1 Axes>"
            ]
          },
          "metadata": {
            "tags": [],
            "needs_background": "light"
          }
        },
        {
          "output_type": "display_data",
          "data": {
            "image/png": "[encoded data removed]",
            "text/plain": [
              "<Figure size 432x288 with 1 Axes>"
            ]
          },
          "metadata": {
            "tags": [],
            "needs_background": "light"
          }
        }
      ]
    },
    {
      "cell_type": "code",
      "metadata": {
        "id": "jHljBIzsUoEs",
        "colab": {
          "base_uri": "https://localhost:8080/",
          "height": 544
        },
        "outputId": "e11212eb-8963-43fb-aae2-11e9f1e377ec"
      },
      "source": [
        "print_training_loss(epochs, SRCNN_loss_log)\n",
        "print_avg_psnr(epochs, SRCNN_psnr_log)"
      ],
      "execution_count": 14,
      "outputs": [
        {
          "output_type": "display_data",
          "data": {
            "image/png": "[encoded data removed]",
            "text/plain": [
              "<Figure size 432x288 with 1 Axes>"
            ]
          },
          "metadata": {
            "tags": [],
            "needs_background": "light"
          }
        },
        {
          "output_type": "display_data",
          "data": {
            "image/png": "[encoded data removed]",
            "text/plain": [
              "<Figure size 432x288 with 1 Axes>"
            ]
          },
          "metadata": {
            "tags": [],
            "needs_background": "light"
          }
        }
      ]
    }
  ]
}